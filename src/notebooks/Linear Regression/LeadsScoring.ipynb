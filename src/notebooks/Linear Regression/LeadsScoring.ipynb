{
 "cells": [
  {
   "cell_type": "markdown",
   "metadata": {},
   "source": [
    "Import Packages\n",
    "Read and Understand the Data\n",
    "EDA\n",
    "Null Value Treatment and Data cleaning\n"
   ]
  }
 ],
 "metadata": {
  "language_info": {
   "name": "python"
  }
 },
 "nbformat": 4,
 "nbformat_minor": 2
}
